{
 "cells": [
  {
   "cell_type": "code",
   "execution_count": 8,
   "id": "fa1e8f24-bddb-4f96-bcb0-91694a2e428a",
   "metadata": {},
   "outputs": [],
   "source": [
    "import re"
   ]
  },
  {
   "cell_type": "code",
   "execution_count": 11,
   "id": "f41e8863-2709-4851-a4e9-59ee86c56681",
   "metadata": {},
   "outputs": [
    {
     "data": {
      "text/plain": [
       "'pH:6.97, WT:25.94c, T:17.60c, H:48.50%'"
      ]
     },
     "execution_count": 11,
     "metadata": {},
     "output_type": "execute_result"
    }
   ],
   "source": [
    "input = \"pH:6.97, WT:25.94c, T:17.60c, H:48.50%\"\n",
    "input"
   ]
  },
  {
   "cell_type": "code",
   "execution_count": 12,
   "id": "55bccf36-7eda-4fad-a7fb-ad6182b39b3c",
   "metadata": {},
   "outputs": [
    {
     "data": {
      "text/plain": [
       "['pH:6.97', ' WT:25.94c', ' T:17.60c', ' H:48.50%']"
      ]
     },
     "execution_count": 12,
     "metadata": {},
     "output_type": "execute_result"
    }
   ],
   "source": [
    "l = input.split(',')\n",
    "kv = dict()\n",
    "l"
   ]
  },
  {
   "cell_type": "code",
   "execution_count": 13,
   "id": "0c909cb5-e3a8-47de-bcc3-ff943f179b34",
   "metadata": {},
   "outputs": [
    {
     "name": "stdout",
     "output_type": "stream",
     "text": [
      "<re.Match object; span=(0, 4), match='6.97'>\n",
      "<re.Match object; span=(0, 5), match='25.94'>\n",
      "<re.Match object; span=(0, 5), match='17.60'>\n",
      "<re.Match object; span=(0, 5), match='48.50'>\n"
     ]
    }
   ],
   "source": [
    "for each_val in l:\n",
    "    kv_arr = each_val.split(':')\n",
    "    val = re.match(r'([0-9\\.]*)', kv_arr[1])\n",
    "    val2 = kv_arr[1].search(r'([0-9\\.]*)')\n",
    "    print(val2)\n",
    "    \n",
    "#    kv[kv_arr[0]] = kv_arr[1].search(r'([0-9\\.]*)')\n"
   ]
  },
  {
   "cell_type": "code",
   "execution_count": null,
   "id": "c9eb0f25-4b57-4440-8186-4669adca694c",
   "metadata": {},
   "outputs": [],
   "source": []
  }
 ],
 "metadata": {
  "kernelspec": {
   "display_name": "Python 3 (ipykernel)",
   "language": "python",
   "name": "python3"
  },
  "language_info": {
   "codemirror_mode": {
    "name": "ipython",
    "version": 3
   },
   "file_extension": ".py",
   "mimetype": "text/x-python",
   "name": "python",
   "nbconvert_exporter": "python",
   "pygments_lexer": "ipython3",
   "version": "3.9.12"
  }
 },
 "nbformat": 4,
 "nbformat_minor": 5
}
